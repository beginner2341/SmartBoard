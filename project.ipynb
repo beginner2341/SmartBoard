{
 "cells": [
  {
   "cell_type": "code",
   "execution_count": 30,
   "id": "3b33ea8c-bf3d-49aa-9162-7044d238cc8d",
   "metadata": {},
   "outputs": [],
   "source": [
    "import tkinter as tk\n",
    "from tkinter import messagebox\n",
    "from tkinter import *\n",
    "import sys\n",
    "from PyQt5.QtWidgets import QApplication, QWidget, QPushButton\n",
    "from PyQt5.QtCore import QCoreApplication\n"
   ]
  },
  {
   "cell_type": "code",
   "execution_count": 31,
   "id": "c50cb1b4-479c-4388-9053-33bdd0003b26",
   "metadata": {},
   "outputs": [],
   "source": [
    "def initialize_board():\n",
    "    global board, current_player\n",
    "    board = [['+' for _ in range(4)] for _ in range(4)]  # 4x4 board\n",
    "    current_player = 'black'  # Starting player\n",
    "\n",
    "initialize_board()"
   ]
  },
  {
   "cell_type": "code",
   "execution_count": 32,
   "id": "b6e07523-1a75-4ec9-ae48-613a49ac14af",
   "metadata": {},
   "outputs": [],
   "source": [
    "def print_board():\n",
    "    for row in board:\n",
    "        print(\" \".join(row))"
   ]
  },
  {
   "cell_type": "code",
   "execution_count": 33,
   "id": "7f60dcba-7c02-46bc-8320-36d689304e83",
   "metadata": {},
   "outputs": [],
   "source": [
    "###def change_player():\n",
    "    ###global current_player\n",
    "    ###if current_player == 'black':\n",
    "        ###current_player = 'white'\n",
    "    ###else:\n",
    "        ###current_player = 'black'\n",
    "\n",
    "#not important(?)"
   ]
  },
  {
   "cell_type": "code",
   "execution_count": 34,
   "id": "c3477a0a-f256-4778-9326-ba1b64653d83",
   "metadata": {},
   "outputs": [],
   "source": [
    "move_history = []\n"
   ]
  },
  {
   "cell_type": "code",
   "execution_count": null,
   "id": "d8ffb076-6791-4e9f-a2b1-31ebe8bc5f9d",
   "metadata": {},
   "outputs": [],
   "source": []
  },
  {
   "cell_type": "code",
   "execution_count": 35,
   "id": "ae5a5503-c15b-4449-abab-39d8756bf99d",
   "metadata": {},
   "outputs": [],
   "source": [
    "def place_piece(event):\n",
    "    square_size = 16\n",
    "    col = event.x // square_size\n",
    "    row = event.y // square_size\n",
    "\n",
    "    if 0 <= row < 4 and 0 <= col < 4:\n",
    "        if board[row][col] == '+':\n",
    "            board[row][col] = current_player\n",
    "            color = 'black' if current_player == 'black' else 'white'\n",
    "            padding = 3\n",
    "            x1 = col * square_size + padding\n",
    "            y1 = row * square_size + padding\n",
    "            x2 = (col + 1) * square_size - padding\n",
    "            y2 = (row + 1) * square_size - padding\n",
    "\n",
    "            tag = f\"piece_{row}_{col}\"\n",
    "            canvas.create_oval(x1, y1, x2, y2, fill=color, tags=tag)\n",
    "\n",
    "            move_history.append((row, col, current_player, tag))  # Save move\n",
    "            print(col,row)\n",
    "            ###change_player()\n",
    "        else:\n",
    "            print(\"Cell already taken.\")\n",
    "    else:\n",
    "        print(\"Click inside the board.\")\n"
   ]
  },
  {
   "cell_type": "code",
   "execution_count": 36,
   "id": "828b4fa8-3651-48c1-949c-25f75b3c35d9",
   "metadata": {},
   "outputs": [],
   "source": [
    "def undo_move(event):\n",
    "    if move_history:\n",
    "        row, col, last_player, tag = move_history.pop()\n",
    "        board[row][col] = '+'\n",
    "        canvas.delete(tag)\n",
    "        global current_player\n",
    "        current_player = last_player\n",
    "        print(f\"Undo move at ({row}, {col})\")\n",
    "    else:\n",
    "        print(\"No moves to undo.\")\n"
   ]
  },
  {
   "cell_type": "code",
   "execution_count": 37,
   "id": "10826345-e077-4e49-a163-b95adf94c864",
   "metadata": {},
   "outputs": [],
   "source": [
    "def draw_lines():\n",
    "    grid_size = 4\n",
    "    square_size = 16\n",
    "    board_size = grid_size * square_size\n",
    "\n",
    "    for i in range(grid_size + 1):  # Draw 5 lines for a 4x4 grid\n",
    "        # Horizontal lines\n",
    "        canvas.create_line(0, i * square_size, board_size, i * square_size)\n",
    "        # Vertical lines\n",
    "        canvas.create_line(i * square_size, 0, i * square_size, board_size)\n"
   ]
  },
  {
   "cell_type": "code",
   "execution_count": 38,
   "id": "a329c16d-b12a-4402-b7bb-e10038e436e1",
   "metadata": {},
   "outputs": [],
   "source": [
    "def restart_game():\n",
    "    canvas.delete(\"all\")           # Delete everything from canvas (grid and pieces)\n",
    "    draw_lines()                   # Redraw the board lines\n",
    "    initialize_board()            # Reset board and current player\n",
    "    move_history.clear()          # Clear move history\n"
   ]
  },
  {
   "cell_type": "code",
   "execution_count": 39,
   "id": "46b601cb-40af-4c9f-b659-05d0f3d42a32",
   "metadata": {},
   "outputs": [],
   "source": [
    "#class MyTab(QWidget):\n",
    "###\n",
    "    #def __init__(self):\n",
    "        #super().__init__()\n",
    "        #self.initUI()\n",
    "\n",
    "    #def intUI(self):\n",
    "        #btn = QPushButton('Quit', self)\n",
    "        #btn.move(50,50)\n",
    "        #btn.resize(btn.sizeHint())\n",
    "        #btn.clicked.connect(QCoreApplication.instance().quit)\n",
    "\n",
    "        ###self.setWindowTitle('Quit Button')\n",
    "        ###self.setGeometry(300, 300, 300, 200)\n",
    "        ###self.show()\n",
    "\n"
   ]
  },
  {
   "cell_type": "code",
   "execution_count": 40,
   "id": "1da8bea9-8bda-42d2-906d-46b5854c4ba2",
   "metadata": {},
   "outputs": [],
   "source": [
    "#def restart():\n",
    "    "
   ]
  },
  {
   "cell_type": "code",
   "execution_count": null,
   "id": "9bf57326-a4b2-4915-900e-bbe3d744eaf2",
   "metadata": {},
   "outputs": [
    {
     "name": "stdout",
     "output_type": "stream",
     "text": [
      "1 1\n",
      "2 2\n",
      "Undo move at (2, 2)\n",
      "Undo move at (1, 1)\n",
      "1 2\n",
      "3 1\n",
      "1 1\n",
      "Undo move at (1, 1)\n",
      "1 1\n",
      "Cell already taken.\n"
     ]
    }
   ],
   "source": [
    "# --- GUI setup ---\n",
    "initialize_board()\n",
    "\n",
    "root = tk.Tk()\n",
    "root.title(\"4x4 Board Game\")\n",
    "\n",
    "canvas = tk.Canvas(root, width=64, height=64)  # 4 * 16\n",
    "canvas.pack()\n",
    "\n",
    "draw_lines()\n",
    "canvas.bind(\"<Button-1>\", place_piece)\n",
    "canvas.bind(\"<Button-3>\", undo_move)\n",
    "\n",
    "\n",
    "restart_btn = tk.Button(root, text=\"Restart\", command=restart_game)\n",
    "restart_btn.pack(pady=5)\n",
    "\n",
    "#app = QApplication(sys.argv)\n",
    "#ex = MyTab()\n",
    "#sys.exit(app.exec_())\n",
    "\n",
    "root.mainloop()"
   ]
  },
  {
   "cell_type": "code",
   "execution_count": null,
   "id": "04dd9e6c-3a71-4c20-bad0-11f1266f1457",
   "metadata": {},
   "outputs": [],
   "source": [
    "# print out the specific location. Reset button will be required and exit button?. print result of the location\n",
    "# 1 more click diappear.\n"
   ]
  },
  {
   "cell_type": "code",
   "execution_count": null,
   "id": "3b0435f4-1ef0-4a3d-9903-0eaeb2b7310b",
   "metadata": {},
   "outputs": [],
   "source": []
  },
  {
   "cell_type": "code",
   "execution_count": null,
   "id": "8cc63a40-6dec-48af-ad38-17761865f032",
   "metadata": {},
   "outputs": [],
   "source": []
  }
 ],
 "metadata": {
  "kernelspec": {
   "display_name": "Python [conda env:base] *",
   "language": "python",
   "name": "conda-base-py"
  },
  "language_info": {
   "codemirror_mode": {
    "name": "ipython",
    "version": 3
   },
   "file_extension": ".py",
   "mimetype": "text/x-python",
   "name": "python",
   "nbconvert_exporter": "python",
   "pygments_lexer": "ipython3",
   "version": "3.12.7"
  }
 },
 "nbformat": 4,
 "nbformat_minor": 5
}
