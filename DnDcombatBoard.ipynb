{
 "cells": [
  {
   "cell_type": "code",
   "execution_count": 133,
   "id": "c58c265a-07d4-44ae-bdd2-4f99957fe670",
   "metadata": {},
   "outputs": [],
   "source": [
    "import random\n",
    "import pygame\n",
    "import sys\n",
    "from pygame.locals import *\n",
    "from PIL import ImageGrab\n",
    "import tkinter as tk\n",
    "from tkinter import messagebox\n",
    "from tkinter import *\n",
    "from PyQt5.QtWidgets import QApplication, QWidget, QPushButton\n",
    "from PyQt5.QtCore import QCoreApplication\n",
    "import cv2"
   ]
  },
  {
   "cell_type": "code",
   "execution_count": 134,
   "id": "83dba5e0-5979-4e55-9b86-428013fad224",
   "metadata": {},
   "outputs": [],
   "source": [
    "GRID_SIZE = 4\n",
    "SQUARE_SIZE = 64\n",
    "BOARD_SIZE = GRID_SIZE * SQUARE_SIZE"
   ]
  },
  {
   "cell_type": "code",
   "execution_count": 135,
   "id": "e62648c2-aaa3-4add-9b35-beba5097ef3d",
   "metadata": {},
   "outputs": [],
   "source": [
    "board = [['+' for _ in range(GRID_SIZE)] for _ in range(GRID_SIZE)]\n",
    "move_history = []\n",
    "current_player = 'black'"
   ]
  },
  {
   "cell_type": "code",
   "execution_count": 136,
   "id": "910ea781-628d-4df0-bc98-bb9cd7a8df1e",
   "metadata": {},
   "outputs": [],
   "source": [
    "#draw baord\n",
    "def draw_grid():\n",
    "    for i in range(GRID_SIZE + 1):\n",
    "        canvas.create_line(0, i * SQUARE_SIZE, BOARD_SIZE, i * SQUARE_SIZE)\n",
    "        canvas.create_line(i * SQUARE_SIZE, 0, i * SQUARE_SIZE, BOARD_SIZE)\n",
    "\n",
    "#dragging object start\n",
    "def start_drag(event):\n",
    "    canvas.drag_data = (event.x, event.y)\n",
    "\n",
    "#drag movement\n",
    "def do_drag(event):\n",
    "    dx = event.x - canvas.drag_data[0]\n",
    "    dy = event.y - canvas.drag_data[1]\n",
    "    canvas.move(piece_image_id, dx, dy)\n",
    "    canvas.drag_data = (event.x, event.y)\n",
    "\n",
    "#dropping object in certain location\n",
    "def drop_drag(event):\n",
    "    col = event.x // SQUARE_SIZE\n",
    "    row = event.y // SQUARE_SIZE\n",
    "\n",
    "    if 0 <= row < GRID_SIZE and 0 <= col < GRID_SIZE:\n",
    "        if board[row][col] == '+':\n",
    "            board[row][col] = current_player\n",
    "\n",
    "            # Snap image to grid\n",
    "            new_x = col * SQUARE_SIZE + SQUARE_SIZE // 2\n",
    "            new_y = row * SQUARE_SIZE + SQUARE_SIZE // 2\n",
    "            canvas.coords(piece_image_id, new_x, new_y)\n",
    "\n",
    "            # Save move\n",
    "            move_history.append((row, col, current_player))\n",
    "            print(f\"Placed at col={col}, row={row}\")\n",
    "        else:\n",
    "            print(\"Cell already taken.\")\n",
    "            # Move back to original\n",
    "            canvas.coords(piece_image_id, *original_position)\n",
    "    else:\n",
    "        print(\"Dropped outside the board.\")\n",
    "        canvas.coords(piece_image_id, *original_position)\n",
    "\n",
    "#reset button initiate the memory\n",
    "def reset_piece():\n",
    "    # Clear the move history\n",
    "    move_history.clear()\n",
    "\n",
    "    # Reset the board to all '+'\n",
    "    for r in range(GRID_SIZE):\n",
    "        for c in range(GRID_SIZE):\n",
    "            board[r][c] = '+'\n",
    "\n",
    "    print(\"Board and history cleared.\")\n",
    "\n",
    "    # Move the piece image back to its original position\n",
    "    canvas.coords(piece_image_id, *original_position)\n",
    "\n"
   ]
  },
  {
   "cell_type": "code",
   "execution_count": 137,
   "id": "d6f6e7ac-9c32-4470-9bdb-3c62cfb2d068",
   "metadata": {},
   "outputs": [
    {
     "name": "stdout",
     "output_type": "stream",
     "text": [
      "Placed at col=0, row=0\n",
      "Placed at col=0, row=1\n",
      "Placed at col=0, row=2\n",
      "Placed at col=0, row=3\n",
      "Placed at col=1, row=3\n",
      "Placed at col=1, row=2\n",
      "Placed at col=1, row=1\n",
      "Placed at col=1, row=0\n",
      "Placed at col=2, row=0\n",
      "Placed at col=2, row=1\n",
      "Placed at col=2, row=2\n",
      "Placed at col=2, row=3\n",
      "Placed at col=3, row=3\n",
      "Placed at col=3, row=2\n",
      "Placed at col=3, row=1\n",
      "Placed at col=3, row=0\n",
      "Board and history cleared.\n"
     ]
    }
   ],
   "source": [
    "root = tk.Tk()\n",
    "root.geometry(\"600x300\")\n",
    "root.title(\"Drag & Drop Grid Game\")\n",
    "\n",
    "canvas = tk.Canvas(root, width=BOARD_SIZE, height=BOARD_SIZE)\n",
    "canvas.pack()\n",
    "\n",
    "draw_grid()\n",
    "#rest\n",
    "reset_btn = tk.Button(root, text=\"Reset Piece\", command=reset_piece)\n",
    "reset_btn.pack(pady=5)\n",
    "\n",
    "#Load image and store reference , replace file name for the new image\n",
    "piece_image = tk.PhotoImage(file=\"Empty_Star.png\", master=canvas)\n",
    "piece_image = piece_image.subsample(15, 15)  # Shrinks to 1/2 size (integer only)\n",
    "canvas.piece_image = piece_image  # Prevent garbage collection\n",
    "\n",
    "\n",
    "#Initial position (outside grid)\n",
    "original_position = (0, 0)\n",
    "piece_image_id = canvas.create_image(*original_position, image=piece_image)\n",
    "\n",
    "#Bind event\n",
    "canvas.tag_bind(piece_image_id, \"<Button-1>\", start_drag)\n",
    "canvas.tag_bind(piece_image_id, \"<B1-Motion>\", do_drag)\n",
    "canvas.tag_bind(piece_image_id, \"<ButtonRelease-1>\", drop_drag)\n",
    "\n",
    "root.mainloop()\n"
   ]
  },
  {
   "cell_type": "code",
   "execution_count": null,
   "id": "8f5570ed-9ce8-4c17-8779-b56345dbf64c",
   "metadata": {},
   "outputs": [],
   "source": []
  }
 ],
 "metadata": {
  "kernelspec": {
   "display_name": "Python [conda env:base] *",
   "language": "python",
   "name": "conda-base-py"
  },
  "language_info": {
   "codemirror_mode": {
    "name": "ipython",
    "version": 3
   },
   "file_extension": ".py",
   "mimetype": "text/x-python",
   "name": "python",
   "nbconvert_exporter": "python",
   "pygments_lexer": "ipython3",
   "version": "3.12.7"
  }
 },
 "nbformat": 4,
 "nbformat_minor": 5
}
